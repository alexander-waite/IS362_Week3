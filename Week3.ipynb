{
 "cells": [
  {
   "cell_type": "markdown",
   "id": "5df35b41",
   "metadata": {},
   "source": [
    "## IS362 - Week 3 Assignment - Alexander Waite"
   ]
  },
  {
   "cell_type": "markdown",
   "id": "8fddd88d",
   "metadata": {},
   "source": [
    "Suppose  you have ridden a bicycle from New York City to Key West, Florida.   Your bicycle odometer shows the total miles, which you have dutifully  logged at the end of each day with paper and pencil.  Your first two  entries might be 55 and 120, indicating that you rode your bike 55 miles  on day 1 and 65 miles on day 2.  Your task is to create a pandas Series  object that holds the cumulative miles at the end of each day, then use  your Python skills to show the total miles that you rode each day.   Consider how you should best present this information in a Jupyter  notebook.  You should save your Jupyter Notebook to your GitHub  repository, and provide a link in your assignment submission."
   ]
  },
  {
   "cell_type": "markdown",
   "id": "f3fb7be7",
   "metadata": {},
   "source": [
    "### Step 1 - Initialize Pandas and Create Series"
   ]
  },
  {
   "cell_type": "code",
   "execution_count": 100,
   "id": "3a37636f",
   "metadata": {},
   "outputs": [],
   "source": [
    "import pandas as pd\n",
    "import numpy as np"
   ]
  },
  {
   "cell_type": "markdown",
   "id": "2bf0a416",
   "metadata": {},
   "source": [
    "### Step 2 - Create new dataseries object to contain given values (And add a few more values)"
   ]
  },
  {
   "cell_type": "code",
   "execution_count": 104,
   "id": "28d39938",
   "metadata": {},
   "outputs": [],
   "source": [
    "BikeMilage = pd.Series([55,120,180,200]) "
   ]
  },
  {
   "cell_type": "markdown",
   "id": "a4b7d8c7",
   "metadata": {},
   "source": [
    "### Series objects are"
   ]
  },
  {
   "cell_type": "markdown",
   "id": "a59a7601",
   "metadata": {},
   "source": [
    ">One-dimensional ndarray with axis labels"
   ]
  },
  {
   "cell_type": "markdown",
   "id": "0594f429",
   "metadata": {},
   "source": [
    "### According to [Pandas](https://pandas.pydata.org) website. a ndarray is a numpy object. As shown below the series object is iterable:"
   ]
  },
  {
   "cell_type": "code",
   "execution_count": 105,
   "id": "c4a265b6",
   "metadata": {
    "scrolled": true
   },
   "outputs": [
    {
     "name": "stdout",
     "output_type": "stream",
     "text": [
      "55\n",
      "120\n",
      "180\n",
      "200\n"
     ]
    }
   ],
   "source": [
    "for item in BikeMilage:\n",
    "    print(item)"
   ]
  },
  {
   "cell_type": "markdown",
   "id": "9b5f0386",
   "metadata": {},
   "source": [
    "### You can also call items in a series in a similar manner to a list (they are subscriptable)."
   ]
  },
  {
   "cell_type": "code",
   "execution_count": 106,
   "id": "a296ce1b",
   "metadata": {},
   "outputs": [
    {
     "data": {
      "text/plain": [
       "55"
      ]
     },
     "execution_count": 106,
     "metadata": {},
     "output_type": "execute_result"
    }
   ],
   "source": [
    "BikeMilage[0]"
   ]
  },
  {
   "cell_type": "markdown",
   "id": "e01b0fcc",
   "metadata": {},
   "source": [
    "### They are also mutable, so you can change the object's items after the object is instantiated."
   ]
  },
  {
   "cell_type": "code",
   "execution_count": 107,
   "id": "7ea0ec19",
   "metadata": {},
   "outputs": [
    {
     "data": {
      "text/plain": [
       "180"
      ]
     },
     "execution_count": 107,
     "metadata": {},
     "output_type": "execute_result"
    }
   ],
   "source": [
    "BikeMilage[2]"
   ]
  },
  {
   "cell_type": "code",
   "execution_count": 114,
   "id": "6515e216",
   "metadata": {},
   "outputs": [],
   "source": [
    "BikeMilage[2] = 125"
   ]
  },
  {
   "cell_type": "code",
   "execution_count": 115,
   "id": "958ecf18",
   "metadata": {},
   "outputs": [
    {
     "data": {
      "text/plain": [
       "125"
      ]
     },
     "execution_count": 115,
     "metadata": {},
     "output_type": "execute_result"
    }
   ],
   "source": [
    "BikeMilage[2]"
   ]
  },
  {
   "cell_type": "markdown",
   "id": "5f854b4a",
   "metadata": {},
   "source": [
    "### Finally I will create a function that will return the milage for a given numeric day."
   ]
  },
  {
   "cell_type": "code",
   "execution_count": 119,
   "id": "4fa14200",
   "metadata": {},
   "outputs": [],
   "source": [
    "def MilageCalc(day_int=int):\n",
    "    day_int=day_int-1\n",
    "    try:\n",
    "        if day_int==0:\n",
    "            return BikeMilage[0]\n",
    "        else:\n",
    "            return BikeMilage[day_int]-BikeMilage[day_int-1]\n",
    "    except KeyError as err:\n",
    "        print('An Key error has occurred. Value {} is not in the current series'.format(err))\n",
    "    "
   ]
  },
  {
   "cell_type": "code",
   "execution_count": 120,
   "id": "dda8b198",
   "metadata": {},
   "outputs": [
    {
     "name": "stdout",
     "output_type": "stream",
     "text": [
      "An Key error has occurred. Value 4 is not in the current series\n"
     ]
    },
    {
     "data": {
      "text/plain": [
       "(55, 65, None)"
      ]
     },
     "execution_count": 120,
     "metadata": {},
     "output_type": "execute_result"
    }
   ],
   "source": [
    "MilageCalc(1), MilageCalc(2), MilageCalc(5)"
   ]
  },
  {
   "cell_type": "markdown",
   "id": "9401688a",
   "metadata": {},
   "source": [
    "### For a bonus I Will create a use the above function to create a dataseries that will show the milage per day and then create a chart"
   ]
  },
  {
   "cell_type": "code",
   "execution_count": 124,
   "id": "2d363348",
   "metadata": {},
   "outputs": [
    {
     "name": "stdout",
     "output_type": "stream",
     "text": [
      "An Key error has occurred. Value -1 is not in the current series\n"
     ]
    }
   ],
   "source": [
    "MilagePerDay = pd.Series([MilageCalc(x) for x in range(0,5)])"
   ]
  },
  {
   "cell_type": "code",
   "execution_count": 128,
   "id": "55aad2f2",
   "metadata": {},
   "outputs": [
    {
     "data": {
      "text/plain": [
       "<AxesSubplot:title={'center':'Miles Per Day'}>"
      ]
     },
     "execution_count": 128,
     "metadata": {},
     "output_type": "execute_result"
    },
    {
     "data": {
      "image/png": "[encoded data removed]",
      "text/plain": [
       "<Figure size 432x288 with 1 Axes>"
      ]
     },
     "metadata": {
      "needs_background": "light"
     },
     "output_type": "display_data"
    }
   ],
   "source": [
    "MilagePerDay.plot(title='Miles Per Day')\n",
    "\n",
    "\n"
   ]
  },
  {
   "cell_type": "code",
   "execution_count": null,
   "id": "5514a4cd",
   "metadata": {},
   "outputs": [],
   "source": []
  }
 ],
 "metadata": {
  "kernelspec": {
   "display_name": "Python 3 (ipykernel)",
   "language": "python",
   "name": "python3"
  },
  "language_info": {
   "codemirror_mode": {
    "name": "ipython",
    "version": 3
   },
   "file_extension": ".py",
   "mimetype": "text/x-python",
   "name": "python",
   "nbconvert_exporter": "python",
   "pygments_lexer": "ipython3",
   "version": "3.9.6"
  }
 },
 "nbformat": 4,
 "nbformat_minor": 5
}
